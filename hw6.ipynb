{
 "cells": [
  {
   "cell_type": "markdown",
   "metadata": {},
   "source": [
    "# Домашнее задание к лекции \"Регулярные выражения\"\n",
    "Для зачета необходимо выполнить 4 задания.  \n",
    "Для зачета с отличием – все."
   ]
  },
  {
   "cell_type": "markdown",
   "metadata": {},
   "source": [
    "## Задание 1"
   ]
  },
  {
   "cell_type": "markdown",
   "metadata": {},
   "source": [
    "Напишите функцию, которая принимает на вход строку и проверяет является ли она валидным транспортным номером. Если да, то функция должна возвращать отдельно номер и регион."
   ]
  },
  {
   "cell_type": "code",
   "execution_count": 1,
   "metadata": {},
   "outputs": [],
   "source": [
    "def number_check():\n",
    "    number = input('Ведите номер автомобильного транспорта: ')\n",
    "    import re\n",
    "    regex_number = '^[АВЕКМНОРСТУХ]{1,2}\\d{3}[АВЕКМНОРСТУХ]{2}\\d{2,3}[R]{1}[U]{1}[S]{1}$'\n",
    "    if re.findall(regex_number, number):\n",
    "        regex_result = '\\d+'\n",
    "        result = re.findall(regex_result, number)\n",
    "        print('Регистрационный номер: '+str(result[0])+'\\n'+'Код региона регистрации: '+str(result[1]))"
   ]
  },
  {
   "cell_type": "code",
   "execution_count": 5,
   "metadata": {},
   "outputs": [
    {
     "name": "stdout",
     "output_type": "stream",
     "text": [
      "Ведите номер автомобильного транспорта: СС228УХ77RUS\n",
      "Регистрационный номер: 228\n",
      "Код региона регистрации: 77\n"
     ]
    }
   ],
   "source": [
    "number_check()"
   ]
  },
  {
   "cell_type": "markdown",
   "metadata": {},
   "source": [
    "## Задание 2"
   ]
  },
  {
   "cell_type": "markdown",
   "metadata": {},
   "source": [
    "Напишите функцию, которая проверяет e-mail адрес на валидность по стандарту RFC822: http://www.w3.org/Protocols/rfc822/. Для этого постарайтесь написать (в крайнем случае найти) самый полный шаблон для проверки e-mail адресов через регулярное выражение. Разберитесь и напишите примеры, какие ваш шаблон может не охватить."
   ]
  },
  {
   "cell_type": "code",
   "execution_count": 30,
   "metadata": {},
   "outputs": [],
   "source": [
    "def email_check():\n",
    "    import re\n",
    "    email = ['Alan Tu-ring.@example.net', '!#$%&*+-/=?^_`{}|~@@example.com', 'Alan Tu-ring.@example.cu']\n",
    "    for address in email:\n",
    "        if re.findall('[!#$%&*+/=?^_`{}@|~]+@+[A-Za-z0-9]+\\.', address):\n",
    "            print('Некорректное имя аккаунта. Допустимо использовать только латинские буквы, цифры, знак подчеркивания (_), точку (.), минус (-)')\n",
    "        else:\n",
    "            answer = re.match('(^|\\s)[A-Za-z0-9-_. ]+@([a-z0-9]+\\.)+(com|net|ru|ua|kz|by)(\\s|$)', address)\n",
    "            if answer != None:\n",
    "                result = answer.group()\n",
    "                print(result)\n",
    "            else: \n",
    "                print('Неверное окончание электронной почты')"
   ]
  },
  {
   "cell_type": "code",
   "execution_count": 31,
   "metadata": {},
   "outputs": [
    {
     "name": "stdout",
     "output_type": "stream",
     "text": [
      "Alan Tu-ring.@example.net\n",
      "Некорректное имя аккаунта. Допустимо использовать только латинские буквы, цифры, знак подчеркивания (_), точку (.), минус (-)\n",
      "Неверное окончание электронной почты\n"
     ]
    }
   ],
   "source": [
    "email_check()"
   ]
  },
  {
   "cell_type": "markdown",
   "metadata": {},
   "source": [
    "## Задание 3\n",
    "Напишите функцию, которая будет удалять все последовательные повторы слов из заданной строки."
   ]
  },
  {
   "cell_type": "code",
   "execution_count": 87,
   "metadata": {},
   "outputs": [],
   "source": [
    "def delete_words():\n",
    "    import re\n",
    "    text = input('Введите текст: ')\n",
    "    new_text=re.sub(r'\\b([^\\W\\d_]+)(\\s+\\1)+\\b', r'\\1', re.sub(r'\\W+', ' ', text).strip())\n",
    "    print(new_text)"
   ]
  },
  {
   "cell_type": "code",
   "execution_count": 395,
   "metadata": {},
   "outputs": [
    {
     "name": "stdout",
     "output_type": "stream",
     "text": [
      "Введите текст: Не люблю, когда слова слова повторяются!\n",
      "Не люблю когда слова повторяются\n"
     ]
    }
   ],
   "source": [
    "delete_words()"
   ]
  },
  {
   "cell_type": "markdown",
   "metadata": {},
   "source": [
    "## Задание 4\n",
    "Напишите функцию, которая будет проверять номер сотового телефона на валидность, если он валиден, то переводить его в формат:   \n",
    "+7(xxx)-xxx-xx-xx  \n",
    "Постарайтесь предусмотреть как можно больше адекватных форматов изначального ввода номера.\n",
    "Примеры правильных и неправильных форматов:\n",
    "- +7 955 555-55-55;\n",
    "- 955555555;\n",
    "- 8(955)555-55-55;\n",
    "- +7 955 555 55 55;\n",
    "- 7(955) 555-55-55;\n",
    "- +7 955+555+55+55."
   ]
  },
  {
   "cell_type": "code",
   "execution_count": 3,
   "metadata": {},
   "outputs": [],
   "source": [
    "def terminal():\n",
    "    import re\n",
    "    telephone = input('Введите номер сотового телефона: ')\n",
    "    regex_telephone = '^[+78][\\d\\(\\)\\ \\-\\+]{8,14}\\d$'\n",
    "    length_list = '\\d'\n",
    "    if len(re.findall(length_list, telephone)) == 11:\n",
    "        telephone_check = re.findall(regex_telephone, telephone)\n",
    "        encoding = re.sub('\\d', 'x', telephone)\n",
    "        list_encoding = list(encoding)\n",
    "        list_telephone = list(telephone)\n",
    "        if list_encoding[0] == '+':\n",
    "            list_encoding[1] = list_telephone[1]\n",
    "        else:\n",
    "            list_encoding[0] = list_telephone[0]\n",
    "        conclusion = ''.join(list_encoding)\n",
    "        print(telephone)\n",
    "        print(conclusion)"
   ]
  },
  {
   "cell_type": "code",
   "execution_count": 4,
   "metadata": {},
   "outputs": [
    {
     "name": "stdout",
     "output_type": "stream",
     "text": [
      "Введите номер сотового телефона: +7 955 555-55-55\n",
      "+7 955 555-55-55\n",
      "+7 xxx xxx-xx-xx\n"
     ]
    }
   ],
   "source": [
    "terminal()"
   ]
  }
 ],
 "metadata": {
  "kernelspec": {
   "display_name": "Python 3",
   "language": "python",
   "name": "python3"
  }
 },
 "nbformat": 4,
 "nbformat_minor": 2
}
